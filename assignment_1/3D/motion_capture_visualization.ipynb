{
 "cells": [
  {
   "cell_type": "markdown",
   "id": "827bce1a",
   "metadata": {},
   "source": [
    "# 3D Signal Visualization\n",
    "\n",
    "## Table of Contents  \n",
    "\n",
    "1. [Loading and Preparing Motion Capture Data](#1--loading-the-data)  \n",
    "   - [1.1 Defining the Joint Class](#11--defining-the-joint-class)  \n",
    "   - [1.2 Custom ASF Parser](#12--custom-asf-parser)  \n",
    "   - [1.3 Custom AMC Parser](#13--custom-amc-parser)  \n",
    "   - [1.4 Loading ASF/AMC Files](#14--load-the-files)  \n",
    "\n",
    "2. [Skeleton Visualization](#2--skeleton-visualization)  \n",
    "   - [2.1 Subject 1 Trial 1 Visualization](#21--subject-1-trial-1-visualization)  \n",
    "   - [2.2 Subject 2 Trial 4 Visualization](#22--subject-2-trial-4-visualization)  \n",
    "   - [2.3 3D Skeleton Animation](#23--3d-skeleton-animation)\n",
    "\n",
    "3. [Skeleton 3D Animation](#3--skeleton-3d-animation)\n",
    "\n",
    "4. [Movement Video Display](#4--movement-video-display)  \n",
    "   - [4.1 Subject 1 Trial 1 Video](#41--subject-1-trial-1-video)  \n",
    "   - [4.2 Subject 2 Trial 4 Video](#42-subject-2-trial-4-video)  \n",
    "\n",
    "5. [Motion Dashboard](#5--motion-dashboard)  \n",
    "   - [5.1 Video Plot Integration](#51--video-plot)  \n",
    "   - [5.2 Skeleton Plot Overlay](#52--skeleton-plot)  \n",
    "   - [5.3 Timeseries Motion Analysis](#53--timeseries-plot)  \n",
    "   - [5.4 Main Mocap Dashboard Function](#54--main-mocap-dashboard-function)  \n",
    "\n",
    "\n",
    "This notebook demonstrates how to read, process and interactively visualize 3D motion capture data in sync with its original video footage. We will work with the CMU MoCap Database and cover two main workflows:\n",
    "\n",
    "1. **Data Loading & Basic Rendering**  \n",
    "   • Load and parse Acclaim ASF/AMC skeleton (`.asf`) and motion (`.amc`) files for  \n",
    "   &nbsp;&nbsp;&nbsp;&nbsp;• Subject 1, Trial 1  \n",
    "   &nbsp;&nbsp;&nbsp;&nbsp;• Subject 2, Trial 4  \n",
    "   • Display a single‐frame 3D skeleton to verify joint hierarchies  \n",
    "   • Play back the corresponding `.mpg` video alongside the skeleton view  \n",
    "\n",
    "2. **Dynamic Synchronized Dashboard**  \n",
    "   • Create a live dashboard combining:  \n",
    "   &nbsp;&nbsp;&nbsp;&nbsp;– Rotating 3D skeleton animation  \n",
    "   &nbsp;&nbsp;&nbsp;&nbsp;– Original video playback  \n",
    "   &nbsp;&nbsp;&nbsp;&nbsp;– Time‐series plots of selected marker coordinates (e.g. head, wrists)  \n",
    "   • Add interactive slider and play controls to scrub through frames in perfect sync  \n",
    "---\n",
    "\n",
    "**Getting started:**  \n",
    "Run the following cell to install any dependencies.  \n",
    "```bash\n",
    "pip install -r requirements.txt\n"
   ]
  },
  {
   "cell_type": "markdown",
   "id": "a6e538bd",
   "metadata": {},
   "source": [
    "## 1- Loading the Data"
   ]
  },
  {
   "cell_type": "code",
   "execution_count": null,
   "id": "14d851f5",
   "metadata": {},
   "outputs": [],
   "source": [
    "import numpy as np\n",
    "import matplotlib.pyplot as plt\n",
    "from transforms3d.euler import euler2mat\n",
    "from mpl_toolkits.mplot3d import Axes3D\n",
    "import cv2\n",
    "from IPython.display import display, clear_output, HTML\n",
    "from matplotlib import animation\n",
    "from IPython.display import Video\n",
    "from base64 import b64encode\n",
    "from matplotlib.animation import FuncAnimation\n",
    "import ipywidgets as widgets\n",
    "import matplotlib.gridspec as gridspec\n",
    "import matplotlib as mpl\n",
    "\n",
    "mpl.rcParams['animation.embed_limit'] = 200  # Set to 50MB"
   ]
  },
  {
   "cell_type": "markdown",
   "id": "839911ac",
   "metadata": {},
   "source": [
    "- Allow jupyter notebook to use 200MB of memory instead of a limit of 20MB per block as it's default.  This will be extremely useful as we use animations that contain a large amount of frames."
   ]
  },
  {
   "cell_type": "code",
   "execution_count": null,
   "id": "63e43518",
   "metadata": {},
   "outputs": [],
   "source": [
    "# for visualizing the 3D plots, switch to 'widget' for interacting with the dashboard\n",
    "%matplotlib inline"
   ]
  },
  {
   "cell_type": "markdown",
   "id": "555a632a",
   "metadata": {},
   "source": [
    "These are the data directories we have, make sure they match before executing the rest of the notebook."
   ]
  },
  {
   "cell_type": "code",
   "execution_count": null,
   "id": "ba6608f4",
   "metadata": {},
   "outputs": [],
   "source": [
    "asf_path1, asf_path2=\"data/01.asf\", \"data/02.asf\"\n",
    "amc_path1, amc_path2 = \"data/01_01.amc\", \"data/02_04.amc\"\n",
    "mpeg_path1, mpeg_path2 = \"data/01_01.mpg\", \"data/02_04.mpg\"\t"
   ]
  },
  {
   "cell_type": "markdown",
   "id": "bc9c608d",
   "metadata": {},
   "source": [
    "Our method for parsing AMC files was inspired by the [AMC parser GitHub library](https://github.com/CalciferZh/AMCParser), which helped us better understand the data format. A big thanks as well to our classmate Miss Khaoula Mejhoudi for pointing us toward a tricky part in the 3D visualization process. We've since reworked the code and adapted it to fit the needs of our own project."
   ]
  },
  {
   "cell_type": "markdown",
   "id": "ab90d8c5",
   "metadata": {},
   "source": [
    "### 1.1- Defining the Joint Class"
   ]
  },
  {
   "cell_type": "code",
   "execution_count": null,
   "id": "daad1197",
   "metadata": {},
   "outputs": [],
   "source": [
    "class Joint:\n",
    "    def __init__(self, name, direction, length, axis, dof, limits):\n",
    "        self.name = name\n",
    "        self.direction = np.reshape(direction, [3, 1])\n",
    "        self.length = length\n",
    "        axis = np.deg2rad(axis)\n",
    "        self.C = euler2mat(*axis)\n",
    "        self.Cinv = np.linalg.inv(self.C)\n",
    "        self.limits = np.zeros([3, 2])\n",
    "        for lm, nm in zip(limits, dof):\n",
    "            if nm == 'rx':\n",
    "                self.limits[0] = lm\n",
    "            elif nm == 'ry':\n",
    "                self.limits[1] = lm\n",
    "            else:\n",
    "                self.limits[2] = lm\n",
    "        self.parent = None\n",
    "        self.children = []\n",
    "        self.coordinate = None\n",
    "        self.matrix = None\n",
    "\n",
    "    def set_motion(self, motion):\n",
    "        if self.name == 'root':\n",
    "            self.coordinate = np.reshape(np.array(motion['root'][:3]), [3, 1])\n",
    "            rotation = np.deg2rad(motion['root'][3:])\n",
    "            self.matrix = self.C.dot(euler2mat(*rotation)).dot(self.Cinv)\n",
    "        else:\n",
    "            idx = 0\n",
    "            rotation = np.zeros(3)\n",
    "            for axis, lm in enumerate(self.limits):\n",
    "                if not np.array_equal(lm, np.zeros(2)):\n",
    "                    rotation[axis] = motion[self.name][idx]\n",
    "                    idx += 1\n",
    "            rotation = np.deg2rad(rotation)\n",
    "            self.matrix = self.parent.matrix.dot(self.C).dot(\n",
    "                euler2mat(*rotation)).dot(self.Cinv)\n",
    "            self.coordinate = self.parent.coordinate + \\\n",
    "                self.length * self.matrix.dot(self.direction)\n",
    "        for child in self.children:\n",
    "            child.set_motion(motion)\n",
    "\n",
    "    def draw(self):\n",
    "        joints = self.to_dict()\n",
    "        fig = plt.figure()\n",
    "        ax = Axes3D(fig, auto_add_to_figure=False)\n",
    "        fig.add_axes(ax)\n",
    "\n",
    "        ax.set_xlim3d(-50, 10)\n",
    "        ax.set_ylim3d(-20, 40)\n",
    "        ax.set_zlim3d(-20, 40)\n",
    "\n",
    "        xs, ys, zs = [], [], []\n",
    "        for joint in joints.values():\n",
    "            xs.append(joint.coordinate[0, 0])\n",
    "            ys.append(joint.coordinate[1, 0])\n",
    "            zs.append(joint.coordinate[2, 0])\n",
    "        plt.plot(zs, xs, ys, 'b.')\n",
    "\n",
    "        for joint in joints.values():\n",
    "            child = joint\n",
    "            if child.parent is not None:\n",
    "                parent = child.parent\n",
    "                xs = [child.coordinate[0, 0], parent.coordinate[0, 0]]\n",
    "                ys = [child.coordinate[1, 0], parent.coordinate[1, 0]]\n",
    "                zs = [child.coordinate[2, 0], parent.coordinate[2, 0]]\n",
    "                plt.plot(zs, xs, ys, 'r')\n",
    "        plt.show()\n",
    "\n",
    "    def to_dict(self):\n",
    "        ret = {self.name: self}\n",
    "        for child in self.children:\n",
    "            ret.update(child.to_dict())\n",
    "        return ret"
   ]
  },
  {
   "cell_type": "markdown",
   "id": "04f9e9f7",
   "metadata": {},
   "source": [
    "### 1.2- Custom ASF Parser"
   ]
  },
  {
   "cell_type": "code",
   "execution_count": null,
   "id": "84da4a4f",
   "metadata": {},
   "outputs": [],
   "source": [
    "# helper functions to setup the parsing\n",
    "def parse_joint_block(content, start_idx):\n",
    "    joint = {}\n",
    "    while True:\n",
    "        line = content[start_idx].strip().split()\n",
    "        start_idx += 1\n",
    "        key = line[0]\n",
    "        if key == 'end':\n",
    "            break\n",
    "        handlers = {\n",
    "            'name': lambda l: joint.update({'name': l[1]}),\n",
    "            'direction': lambda l: joint.update({'direction': list(map(float, l[1:]))}),\n",
    "            'length': lambda l: joint.update({'length': float(l[1])}),\n",
    "            'axis': lambda l: joint.update({'axis': list(map(float, l[1:-1]))}),\n",
    "            'dof': lambda l: joint.update({'dof': l[1:]}),\n",
    "            'limits': lambda l: joint.setdefault('limits', []).append(\n",
    "                list(map(float, ' '.join(l[1:]).replace('(', '').replace(')', '').split()))\n",
    "            )\n",
    "        }\n",
    "        if key in handlers:\n",
    "            handlers[key](line)\n",
    "    return joint, start_idx\n",
    "\n",
    "def read_section_after(content, keyword):\n",
    "    return content[content.index(keyword) + 1:]\n",
    "\n",
    "def parse_hierarchy(content, idx, joints):\n",
    "    while content[idx].strip().split()[0] != 'begin':\n",
    "        idx += 1\n",
    "    idx += 1\n",
    "    while content[idx].strip().split()[0] != 'end':\n",
    "        line = content[idx].strip().split()\n",
    "        idx += 1\n",
    "        parent = joints[line[0]]\n",
    "        for child_name in line[1:]:\n",
    "            child = joints[child_name]\n",
    "            parent.children.append(child)\n",
    "            child.parent = parent\n",
    "    return joints\n",
    "\n",
    "\n",
    "# main function for parsing\n",
    "def parse_asf(file_path):\n",
    "    with open(file_path) as f:\n",
    "        content = f.read().splitlines()\n",
    "\n",
    "    content = read_section_after(content, ':bonedata')\n",
    "    joints = {'root': Joint('root', np.zeros(3), 0, np.zeros(3), [], [])}\n",
    "\n",
    "    idx = 0\n",
    "    while idx < len(content):\n",
    "        line = content[idx].strip().split()\n",
    "        idx += 1\n",
    "        if line[0] == ':hierarchy':\n",
    "            break\n",
    "        if line[0] != 'begin':\n",
    "            continue\n",
    "\n",
    "        joint_data, idx = parse_joint_block(content, idx)\n",
    "        joints[joint_data['name']] = Joint(\n",
    "            joint_data['name'],\n",
    "            joint_data['direction'],\n",
    "            joint_data['length'],\n",
    "            joint_data['axis'],\n",
    "            joint_data.get('dof', []),\n",
    "            joint_data.get('limits', [])\n",
    "        )\n",
    "\n",
    "    return parse_hierarchy(content, idx, joints)"
   ]
  },
  {
   "cell_type": "markdown",
   "id": "43aa027c",
   "metadata": {},
   "source": [
    "### 1.3- Custom AMC Parser"
   ]
  },
  {
   "cell_type": "code",
   "execution_count": null,
   "id": "4a0a2f26",
   "metadata": {},
   "outputs": [],
   "source": [
    "def parse_amc(file_path):\n",
    "    with open(file_path) as f:\n",
    "        content = f.read().splitlines()\n",
    "\n",
    "    content = content[content.index(':DEGREES') + 1:]\n",
    "    frames = []\n",
    "    idx = 0\n",
    "    current_frame = {}\n",
    "\n",
    "    while idx < len(content):\n",
    "        line = content[idx].strip().split()\n",
    "        idx += 1\n",
    "        if not line:\n",
    "            continue\n",
    "        if line[0].isnumeric():\n",
    "            if current_frame:\n",
    "                frames.append(current_frame)\n",
    "                current_frame = {}\n",
    "        else:\n",
    "            current_frame[line[0]] = list(map(float, line[1:]))\n",
    "\n",
    "    if current_frame:\n",
    "        frames.append(current_frame)\n",
    "\n",
    "    return frames"
   ]
  },
  {
   "cell_type": "markdown",
   "id": "ed7169df",
   "metadata": {},
   "source": [
    "### 1.4- Load the Files"
   ]
  },
  {
   "cell_type": "code",
   "execution_count": null,
   "id": "3ced4fbc",
   "metadata": {},
   "outputs": [],
   "source": [
    "joints1, joints2 = parse_asf(asf_path1), parse_asf(asf_path2)\n",
    "motions1, motions2 = parse_amc(amc_path1),parse_amc(amc_path2)"
   ]
  },
  {
   "cell_type": "markdown",
   "id": "fbaf080e",
   "metadata": {},
   "source": [
    "## 2- Skeleton Visualization"
   ]
  },
  {
   "cell_type": "markdown",
   "id": "fca7ed7a",
   "metadata": {},
   "source": [
    "We will now work on visualizing the 3D human skeleton model with customizable display options. \n",
    "\n",
    "The function `visualize_skeleton`:\n",
    "- Preserves the original visualization style and dimensions\n",
    "- Optionally shows joint labels\n",
    "- Supports animation through motion data frames\n",
    "- Maintains consistent camera perspective and scaling\n",
    "\n",
    "🛠 **Parameters**\n",
    "\n",
    "| Parameter | Type | Default | Description |\n",
    "|-----------|------|---------|-------------|\n",
    "| `joints` | dict | Required | Dictionary containing skeleton joints (must include 'root' joint) |\n",
    "| `show_labels` | bool | `False` | Whether to display joint name labels |\n",
    "| `motion_data` | list | `None` | List of motion frames (parsed AMC data) |\n",
    "| `motion_frame` | int | `0` | Index of specific motion frame to visualize |\n"
   ]
  },
  {
   "cell_type": "code",
   "execution_count": null,
   "id": "c3f5ecd8",
   "metadata": {},
   "outputs": [],
   "source": [
    "def visualize_skeleton(joints, show_labels=False, motion_data=None, motion_frame=0):\n",
    "\n",
    "    fig = plt.figure(figsize=(10, 8))\n",
    "    ax = fig.add_subplot(111, projection='3d')\n",
    "\n",
    "    import copy\n",
    "    current_joints = copy.deepcopy(joints)\n",
    "\n",
    "    if motion_data is not None and motion_frame < len(motion_data):\n",
    "        current_joints['root'].set_motion(motion_data[motion_frame])\n",
    "\n",
    "    joint_dict = current_joints['root'].to_dict()\n",
    "    xs, ys, zs = [], [], []\n",
    "    for joint in joint_dict.values():\n",
    "        xs.append(joint.coordinate[0, 0])\n",
    "        ys.append(joint.coordinate[1, 0])\n",
    "        zs.append(joint.coordinate[2, 0])\n",
    "\n",
    "    ax.scatter(zs, xs, ys, c='b', marker='o', s=50)\n",
    "\n",
    "    if show_labels:\n",
    "        for joint in joint_dict.values():\n",
    "            ax.text(joint.coordinate[2, 0],\n",
    "                    joint.coordinate[0, 0],\n",
    "                    joint.coordinate[1, 0],\n",
    "                    joint.name, fontsize=8)\n",
    "\n",
    "    for joint in joint_dict.values():\n",
    "        if joint.parent:\n",
    "            parent = joint.parent\n",
    "            ax.plot([joint.coordinate[2, 0], parent.coordinate[2, 0]],\n",
    "                    [joint.coordinate[0, 0], parent.coordinate[0, 0]],\n",
    "                    [joint.coordinate[1, 0], parent.coordinate[1, 0]], 'r-')\n",
    "\n",
    "    ax.set_xlabel('Z')\n",
    "    ax.set_ylabel('X')\n",
    "    ax.set_zlabel('Y')\n",
    "    ax.set_title(f'Skeleton Visualization{\"\" if motion_data is None else f\" - Frame {motion_frame}\"}')\n",
    "\n",
    "    ax.set_box_aspect([1, 1, 1])\n",
    "\n",
    "    plt.show()"
   ]
  },
  {
   "cell_type": "markdown",
   "id": "102e8ad8",
   "metadata": {},
   "source": [
    "### 2.1- Subject 1 Trial 1 Visualization"
   ]
  },
  {
   "cell_type": "code",
   "execution_count": null,
   "id": "9372dbeb",
   "metadata": {},
   "outputs": [],
   "source": [
    "visualize_skeleton(joints1, motion_data=motions1, motion_frame=500)"
   ]
  },
  {
   "cell_type": "markdown",
   "id": "9d503c1d",
   "metadata": {},
   "source": [
    "We can observe here the posture before the horizontal jump.\n",
    "\n",
    "Let's do another test for another motion frame."
   ]
  },
  {
   "cell_type": "code",
   "execution_count": null,
   "id": "f5cf637c",
   "metadata": {},
   "outputs": [],
   "source": [
    "visualize_skeleton(joints1, show_labels=True, motion_data=motions1, motion_frame=10)"
   ]
  },
  {
   "cell_type": "markdown",
   "id": "3f7a8009",
   "metadata": {},
   "source": [
    "### 2.2- Subject 2 Trial 4 Visualization"
   ]
  },
  {
   "cell_type": "code",
   "execution_count": null,
   "id": "0d37d917",
   "metadata": {},
   "outputs": [],
   "source": [
    "visualize_skeleton(joints2, show_labels=True, motion_data=motions2, motion_frame=10)"
   ]
  },
  {
   "cell_type": "code",
   "execution_count": null,
   "id": "a6c7d67e",
   "metadata": {},
   "outputs": [],
   "source": [
    "visualize_skeleton(joints2, motion_data=motions2, motion_frame=60)"
   ]
  },
  {
   "cell_type": "markdown",
   "id": "6af92120",
   "metadata": {},
   "source": [
    "We can see here the posture before the burst (jump) from the 2 Subject for a vertical jump."
   ]
  },
  {
   "cell_type": "markdown",
   "id": "6075c2cf",
   "metadata": {},
   "source": [
    "## 3- Skeleton 3D Animation"
   ]
  },
  {
   "cell_type": "markdown",
   "id": "a8daca66",
   "metadata": {},
   "source": [
    "We will here try to create an interactive 3D animation of motion capture data. \n",
    "\n",
    "The function `create_3d_animation`:\n",
    "- Visualizes skeleton movement through a specified frame range\n",
    "- Provides smooth playback with adjustable speed\n",
    "- Maintains proper bone/joint connections\n",
    "- Auto-scales viewport to contain all motion\n",
    "\n",
    " 🛠 **Parameters**\n",
    "\n",
    "| Parameter | Type | Description |\n",
    "|-----------|------|-------------|\n",
    "| `joints` | dict | Parsed skeleton hierarchy (must contain 'root' joint) |\n",
    "| `motions` | list | Motion data frames from AMC file |\n",
    "| `start_frame` | int | First frame to include (default: 0) |\n",
    "| `end_frame` | int | Last frame to include (None = all frames) |"
   ]
  },
  {
   "cell_type": "code",
   "execution_count": null,
   "id": "10560536",
   "metadata": {},
   "outputs": [],
   "source": [
    "# helper function for the update function in create_3d_animation and later on for motion \n",
    "def update_3d_scene(joints, motions, frame_idx, scat, lines, ax):\n",
    "    joints['root'].set_motion(motions[frame_idx])\n",
    "    joint_dict = joints['root'].to_dict()\n",
    "\n",
    "    coords = np.array([\n",
    "        [j.coordinate[2, 0], j.coordinate[0, 0], j.coordinate[1, 0]] # Order: Z, X, Y\n",
    "        for j in joint_dict.values()\n",
    "    ])\n",
    "    scat._offsets3d = (coords[:, 0], coords[:, 1], coords[:, 2])\n",
    "\n",
    "    line_idx = 0\n",
    "    for j in joint_dict.values():\n",
    "        if j.parent and line_idx < len(lines):\n",
    "            jc, pc = j.coordinate[:, 0], j.parent.coordinate[:, 0]\n",
    "            x, y, z = [jc[2], pc[2]], [jc[0], pc[0]], [jc[1], pc[1]]\n",
    "            lines[line_idx].set_data(x, y)\n",
    "            lines[line_idx].set_3d_properties(z)\n",
    "            line_idx += 1\n",
    "\n",
    "    padding = 20\n",
    "    ax.set_xlim(np.min(coords[:, 0]) - padding, np.max(coords[:, 0]) + padding)\n",
    "    ax.set_ylim(np.min(coords[:, 1]) - padding, np.max(coords[:, 1]) + padding)\n",
    "    ax.set_zlim(np.min(coords[:, 2]) - padding, np.max(coords[:, 2]) + padding)"
   ]
  },
  {
   "cell_type": "code",
   "execution_count": null,
   "id": "f62bfb06",
   "metadata": {},
   "outputs": [],
   "source": [
    "def create_3d_animation(joints, motions, start_frame=0, end_frame=None):\n",
    "    \n",
    "    if end_frame is None or end_frame > len(motions):\n",
    "        end_frame = len(motions)\n",
    "    frames_to_show = range(start_frame, end_frame)\n",
    "\n",
    "    fig = plt.figure(figsize=(10, 8))\n",
    "    ax = fig.add_subplot(111, projection='3d')\n",
    "\n",
    "    scat = ax.scatter([], [], [], c='b', s=50)\n",
    "    lines = [ax.plot([], [], [], 'r-')[0] for _ in range(20)]\n",
    "\n",
    "    ax.set_xlabel('Z')\n",
    "    ax.set_ylabel('X')\n",
    "    ax.set_zlabel('Y')\n",
    "    ax.set_title('3D Motion Capture Animation')\n",
    "\n",
    "    def update(i):\n",
    "        update_3d_scene(joints, motions, i, scat, lines, ax)\n",
    "        return [scat] + lines\n",
    "\n",
    "    ani = animation.FuncAnimation(\n",
    "        fig, update, frames=len(frames_to_show),\n",
    "        interval=50, blit=True\n",
    "    )\n",
    "\n",
    "    plt.close()\n",
    "    return HTML(ani.to_jshtml())"
   ]
  },
  {
   "cell_type": "code",
   "execution_count": null,
   "id": "8fe00b36",
   "metadata": {},
   "outputs": [],
   "source": [
    "create_3d_animation(joints1, motions1, start_frame=500, end_frame=700)"
   ]
  },
  {
   "cell_type": "code",
   "execution_count": null,
   "id": "a74fc534",
   "metadata": {},
   "outputs": [],
   "source": [
    "create_3d_animation(joints1, motions1, start_frame=0, end_frame=700)"
   ]
  },
  {
   "cell_type": "code",
   "execution_count": null,
   "id": "1e4ef6a0",
   "metadata": {},
   "outputs": [],
   "source": [
    "create_3d_animation(joints2, motions2, start_frame=0, end_frame=300)"
   ]
  },
  {
   "cell_type": "markdown",
   "id": "d51f6c23",
   "metadata": {},
   "source": [
    "## 4- Movement Video Display"
   ]
  },
  {
   "cell_type": "code",
   "execution_count": null,
   "id": "b71e133f",
   "metadata": {},
   "outputs": [],
   "source": [
    "def show_mpeg_animation_simple(video_path, max_frames=100):\n",
    "    cap = cv2.VideoCapture(video_path)\n",
    "    frames = []\n",
    "    while cap.isOpened() and len(frames) < max_frames:\n",
    "        ret, frame = cap.read()\n",
    "        if not ret:\n",
    "            break\n",
    "        frames.append(cv2.cvtColor(frame, cv2.COLOR_BGR2RGB))\n",
    "    cap.release()\n",
    "\n",
    "    fig, ax = plt.subplots()\n",
    "    im = ax.imshow(frames[0])\n",
    "    ax.axis('off')\n",
    "\n",
    "    def update(i):\n",
    "        im.set_array(frames[i])\n",
    "        return im,\n",
    "\n",
    "    ani = FuncAnimation(fig, update, frames=len(\n",
    "        frames), interval=100, blit=True)\n",
    "    plt.close()\n",
    "    return HTML(ani.to_jshtml())\n"
   ]
  },
  {
   "cell_type": "markdown",
   "id": "419bacfa",
   "metadata": {},
   "source": [
    "### 4.1- Subject 1 Trial 1 Video"
   ]
  },
  {
   "cell_type": "code",
   "execution_count": null,
   "id": "19fc6258",
   "metadata": {},
   "outputs": [],
   "source": [
    "show_mpeg_animation_simple(mpeg_path1, max_frames=500)"
   ]
  },
  {
   "cell_type": "markdown",
   "id": "c0980b04",
   "metadata": {},
   "source": [
    "### 4.2- Subject 2 Trial 4 Video"
   ]
  },
  {
   "cell_type": "code",
   "execution_count": null,
   "id": "c6c57326",
   "metadata": {},
   "outputs": [],
   "source": [
    "show_mpeg_animation_simple(mpeg_path2, max_frames=200)"
   ]
  },
  {
   "cell_type": "markdown",
   "id": "871b17b5",
   "metadata": {},
   "source": [
    "---"
   ]
  },
  {
   "cell_type": "markdown",
   "id": "c7f4e06e",
   "metadata": {},
   "source": [
    "## 5- Motion Dashboard"
   ]
  },
  {
   "cell_type": "markdown",
   "id": "7edc7a3c",
   "metadata": {},
   "source": [
    "To build the motion dashboard, we needed to simultaneously visualize three key components—3D skeleton movement, original video footage, and time series data—alongside interactive widgets for testing and navigation.\n",
    "\n",
    "We organized the implementation into a set of core functions, grouped as follows:\n",
    "\n",
    "**Video Loading & Frame Capture**\n",
    "- `load_video_frames`: loads and stores video frames from the .mpg file\n",
    "- `init_video_plot`: initializes the video display subplot\n",
    "\n",
    "**3D Skeleton Visualization**\n",
    "- `init_3d_plot`: sets up the 3D skeleton plot and bone connections\n",
    "- `create_animation`: animates the skeleton movement across frames\n",
    "\n",
    "**Time Series Plotting**\n",
    "- `extract_time_series_data`: extracts marker positions across time\n",
    "- `plot_time_series`: visualizes x, y, z position traces with color-coded lines\n",
    "\n",
    "**Motion Dashboard Assembly**\n",
    "- `setup_figure`: creates the layout for all three subplots\n",
    "- `display_controls`: configures interactive playback widgets\n",
    "- `create_mocap_dashboard`: the main wrapper function that brings all components together\n"
   ]
  },
  {
   "cell_type": "code",
   "execution_count": null,
   "id": "48846748",
   "metadata": {},
   "outputs": [],
   "source": [
    "%matplotlib widget"
   ]
  },
  {
   "cell_type": "markdown",
   "id": "2b7dbbcf",
   "metadata": {},
   "source": [
    "### 5.1- Video Plot"
   ]
  },
  {
   "cell_type": "code",
   "execution_count": null,
   "id": "2c89f8bf",
   "metadata": {},
   "outputs": [],
   "source": [
    "# initialize the video and its frames\n",
    "def init_video_plot(axV, video_frames):\n",
    "    blank = np.zeros((100,100,3), dtype=np.uint8)\n",
    "    \n",
    "    return axV.imshow(video_frames[0] if video_frames else blank)\n",
    "\n",
    "def load_video_frames(video_path, max_frames):\n",
    "    cap = cv2.VideoCapture(video_path)\n",
    "    frames = []\n",
    "    while cap.isOpened() and len(frames) < max_frames:\n",
    "        ret, frame = cap.read()\n",
    "        if not ret: break\n",
    "        frames.append(cv2.cvtColor(frame, cv2.COLOR_BGR2RGB))\n",
    "    cap.release()\n",
    "    return frames"
   ]
  },
  {
   "cell_type": "markdown",
   "id": "6f632c41",
   "metadata": {},
   "source": [
    "### 5.2- Skeleton Plot"
   ]
  },
  {
   "cell_type": "code",
   "execution_count": null,
   "id": "a0547b99",
   "metadata": {},
   "outputs": [],
   "source": [
    "def init_3d_plot(ax3, joints):\n",
    "    scat = ax3.scatter([], [], [], c='b', s=50)\n",
    "    lines = [ax3.plot([], [], [], 'r-')[0] for _ in range(20)]\n",
    "    return scat, lines\n",
    "\n",
    "def create_animation(fig, frames, joints, motions, video_frames,\n",
    "                     scat, lines, video_img, frame_line, ax3):\n",
    "    def update(i):\n",
    "        update_3d_scene(joints, motions, frames[i], scat, lines, ax3)\n",
    "        if i < len(video_frames):\n",
    "            video_img.set_array(video_frames[i])\n",
    "        frame_line.set_xdata([i, i])\n",
    "        fig.canvas.draw_idle()\n",
    "    ani = FuncAnimation(fig, update, frames=len(frames), interval=50, blit=False)\n",
    "    return ani, update"
   ]
  },
  {
   "cell_type": "markdown",
   "id": "b81a3345",
   "metadata": {},
   "source": [
    "### 5.3- Timeseries Plot"
   ]
  },
  {
   "cell_type": "code",
   "execution_count": null,
   "id": "4bfa4ead",
   "metadata": {},
   "outputs": [],
   "source": [
    "def extract_time_series_data(joints, motions, frames, selected):\n",
    "    ts = {m:{'x':[], 'y':[], 'z':[]} for m in selected}\n",
    "    for f in frames:\n",
    "        joints['root'].set_motion(motions[f])\n",
    "        jd = joints['root'].to_dict()\n",
    "        for m in selected:\n",
    "            if m in jd:\n",
    "                x,y,z = jd[m].coordinate[:,0]\n",
    "                ts[m]['x'].append(x); ts[m]['y'].append(y); ts[m]['z'].append(z)\n",
    "    return ts\n",
    "\n",
    "def plot_time_series(axT, ts_data, selected):\n",
    "    colors = plt.cm.tab10.colors\n",
    "    for i,m in enumerate(selected):\n",
    "        axT.plot(ts_data[m]['x'], '-',  color=colors[i], label=f'{m} X')\n",
    "        axT.plot(ts_data[m]['y'], '--', color=colors[i], label=f'{m} Y')\n",
    "        axT.plot(ts_data[m]['z'], ':',  color=colors[i], label=f'{m} Z')\n",
    "    axT.legend(loc='upper right')\n",
    "    line = axT.axvline(0, color='k', linestyle='--', alpha=0.5)\n",
    "    return line"
   ]
  },
  {
   "cell_type": "markdown",
   "id": "7464481b",
   "metadata": {},
   "source": [
    "### 5.4- Main Mocap Dashboard Function"
   ]
  },
  {
   "cell_type": "code",
   "execution_count": null,
   "id": "362444ec",
   "metadata": {},
   "outputs": [],
   "source": [
    "def setup_figure():\n",
    "    plt.close('all')\n",
    "    fig = plt.figure(figsize=(18, 10))\n",
    "    gs = gridspec.GridSpec(2, 2, width_ratios=[1,1], height_ratios=[2,1])\n",
    "    ax3 = fig.add_subplot(gs[0,0], projection='3d')\n",
    "    axV = fig.add_subplot(gs[0,1])\n",
    "    axT = fig.add_subplot(gs[1,:])\n",
    "    ax3.set_title('3D Skeleton Animation')\n",
    "    axV.set_title('Original Video')\n",
    "    axT.set_title('Marker Position Time Series')\n",
    "    ax3.set_xlim(-100,100); ax3.set_ylim(-100,100); ax3.set_zlim(0,200)\n",
    "    out = widgets.Output()\n",
    "    return fig, ax3, axV, axT, out\n",
    "\n",
    "def display_controls(fig, ani, frames, out, update_func):\n",
    "    play = widgets.Play(value=0, min=0, max=len(frames)-1,\n",
    "                        step=1, interval=50, description='Play')\n",
    "    slider = widgets.IntSlider(value=0, min=0, max=len(frames)-1,\n",
    "                               description='Frame:')\n",
    "    widgets.jslink((play, 'value'), (slider, 'value'))\n",
    "\n",
    "    def on_slider_change(change):\n",
    "        ani.event_source.stop() \n",
    "        update_func(change['new'])\n",
    "\n",
    "    slider.observe(on_slider_change, names='value')\n",
    "    \n",
    "    display(widgets.VBox([widgets.HBox([play, slider]), out]))\n",
    "\n",
    "def create_mocap_dashboard(video_path, joints, motions,\n",
    "                           selected_markers=['head','left_hand','right_hand'],\n",
    "                           start_frame=0, end_frame=None):\n",
    "    if end_frame is None or end_frame>len(motions):\n",
    "        end_frame = len(motions)\n",
    "        \n",
    "    frames = list(range(start_frame, end_frame))\n",
    "    video_frames = load_video_frames(video_path, len(frames))\n",
    "    assert len(video_frames) == len(frames), \"Video/motion frame count mismatch\"\n",
    "    \n",
    "    fig, ax3, axV, axT, out = setup_figure()\n",
    "    \n",
    "    scat, bones = init_3d_plot(ax3, joints)\n",
    "    vimg = init_video_plot(axV, video_frames)\n",
    "    ts = extract_time_series_data(joints, motions, frames, selected_markers)\n",
    "    frame_line = plot_time_series(axT, ts, selected_markers)\n",
    "    ani, update_func = create_animation(fig, frames, joints, motions, video_frames,scat, bones, vimg, frame_line, ax3)\n",
    "    \n",
    "    display_controls(fig, ani, frames, out, update_func)\n",
    "    return ani"
   ]
  },
  {
   "cell_type": "code",
   "execution_count": null,
   "id": "21932746",
   "metadata": {},
   "outputs": [],
   "source": [
    "dashboard = create_mocap_dashboard(\n",
    "    video_path=mpeg_path1,\n",
    "    joints=joints1,\n",
    "    motions=motions1,\n",
    "    start_frame=0,\n",
    "    end_frame=700,\n",
    ")"
   ]
  }
 ],
 "metadata": {
  "kernelspec": {
   "display_name": "Python 3",
   "language": "python",
   "name": "python3"
  },
  "language_info": {
   "codemirror_mode": {
    "name": "ipython",
    "version": 3
   },
   "file_extension": ".py",
   "mimetype": "text/x-python",
   "name": "python",
   "nbconvert_exporter": "python",
   "pygments_lexer": "ipython3",
   "version": "3.13.2"
  }
 },
 "nbformat": 4,
 "nbformat_minor": 5
}
