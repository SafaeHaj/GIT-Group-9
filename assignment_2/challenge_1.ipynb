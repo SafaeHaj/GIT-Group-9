{
 "cells": [
  {
   "cell_type": "markdown",
   "id": "55a29e80",
   "metadata": {},
   "source": [
    "# Semantic Segmentation of Tomatoes with U-Net\n",
    "\n",
    "## Table of Contents\n",
    "\n",
    "1. [Introduction](#1--introduction)\n",
    "2. [Setup and Imports](#2--setup-and-imports)\n",
    "3. [Data Loading and Preprocessing](#3--data-loading-and-preprocessing)\n",
    "4. [Data Augmentation](#4--data-augmentation)\n",
    "5. [U-Net Model Definition](#5--u-net-model-definition)\n",
    "6. [Training](#6--training)\n",
    "7. [Evaluation](#7--evaluation)\n",
    "8. [Visualization](#8--visualization)"
   ]
  },
  {
   "cell_type": "markdown",
   "id": "3c778d5d",
   "metadata": {},
   "source": [
    "## 1- Introduction\n",
    "This notebook implements a U-Net model for semantic segmentation of tomato images. Semantic segmentation is the task of classifying each pixel in an image into a specific category or class. The U-Net architecture is particularly effective for biomedical image segmentation tasks."
   ]
  },
  {
   "cell_type": "markdown",
   "id": "94cacff9",
   "metadata": {},
   "source": [
    "## 2- Setup and Imports"
   ]
  },
  {
   "cell_type": "code",
   "execution_count": null,
   "id": "a10282a4",
   "metadata": {},
   "outputs": [],
   "source": [
    "import os\n",
    "from glob import glob\n",
    "import numpy as np\n",
    "import tensorflow as tf\n",
    "from tensorflow.keras import layers, models\n",
    "import matplotlib.pyplot as plt\n",
    "from sklearn.model_selection import train_test_split\n",
    "from tensorflow.keras.preprocessing.image import ImageDataGenerator\n",
    "from tensorflow.keras.metrics import MeanIoU\n"
   ]
  },
  {
   "cell_type": "markdown",
   "id": "46ba5405",
   "metadata": {},
   "source": [
    "## 3- Data Loading and Preprocessing"
   ]
  },
  {
   "cell_type": "code",
   "execution_count": null,
   "id": "1f2ed528",
   "metadata": {},
   "outputs": [],
   "source": [
    "# Define paths\n",
    "base_dir = 'data/tomato_dataset'\n",
    "train_images = sorted(glob(os.path.join(base_dir, 'Train', '.png')))\n",
    "train_masks = sorted(glob(os.path.join(base_dir, 'Mask', '.png')))\n",
    "val_images = sorted(glob(os.path.join(base_dir, 'Test', '.png')))\n",
    "val_masks = sorted(glob(os.path.join(base_dir, 'Mask2', '.png')))\n",
    "test_images = sorted(glob(os.path.join(base_dir, 'Train2', '.png')))\n",
    "test_masks = sorted(glob(os.path.join(base_dir, 'Test2', '.png')))\n"
   ]
  },
  {
   "cell_type": "markdown",
   "id": "d819176a",
   "metadata": {},
   "source": [
    "## 4- Data Augmentation"
   ]
  },
  {
   "cell_type": "code",
   "execution_count": null,
   "id": "539ba7ce",
   "metadata": {},
   "outputs": [],
   "source": [
    "data_gen_args = dict(rotation_range=20, width_shift_range=0.1, height_shift_range=0.1, shear_range=0.1, zoom_range=0.1, horizontal_flip=True, fill_mode='nearest')\n",
    "image_datagen = ImageDataGenerator(**data_gen_args)\n",
    "mask_datagen = ImageDataGenerator(**data_gen_args)\n",
    "# Fit generators\n",
    "seed = 42\n",
    "image_datagen.fit(X_train, augment=True, seed=seed)\n",
    "mask_datagen.fit(y_train, augment=True, seed=seed)\n",
    "train_generator = zip(image_datagen.flow(X_train, batch_size=16, seed=seed), mask_datagen.flow(y_train, batch_size=16, seed=seed))\n"
   ]
  },
  {
   "cell_type": "markdown",
   "id": "e0112ed7",
   "metadata": {},
   "source": [
    "## 5- U-Net Model Definition"
   ]
  },
  {
   "cell_type": "code",
   "execution_count": null,
   "id": "3dae2c0a",
   "metadata": {},
   "outputs": [],
   "source": [
    "def unet(input_size=(128,128,3)):\n",
    "    inputs = layers.Input(input_size)\n",
    "    # Contracting path\n",
    "    c1 = layers.Conv2D(64, 3, activation='relu', padding='same')(inputs)\n",
    "    c1 = layers.Conv2D(64, 3, activation='relu', padding='same')(c1)\n",
    "    p1 = layers.MaxPooling2D()(c1)\n",
    "    c2 = layers.Conv2D(128, 3, activation='relu', padding='same')(p1)\n",
    "    c2 = layers.Conv2D(128, 3, activation='relu', padding='same')(c2)\n",
    "    p2 = layers.MaxPooling2D()(c2)\n",
    "    # Bottleneck\n",
    "    c5 = layers.Conv2D(512, 3, activation='relu', padding='same')(p2)\n",
    "    c5 = layers.Conv2D(512, 3, activation='relu', padding='same')(c5)\n",
    "    # Expanding path\n",
    "    u6 = layers.Conv2DTranspose(128, 2, strides=2, padding='same')(c5)\n",
    "    u6 = layers.concatenate([u6, c2])\n",
    "    c6 = layers.Conv2D(128, 3, activation='relu', padding='same')(u6)\n",
    "    c6 = layers.Conv2D(128, 3, activation='relu', padding='same')(c6)\n",
    "    u7 = layers.Conv2DTranspose(64, 2, strides=2, padding='same')(c6)\n",
    "    u7 = layers.concatenate([u7, c1])\n",
    "    c7 = layers.Conv2D(64, 3, activation='relu', padding='same')(u7)\n",
    "    c7 = layers.Conv2D(64, 3, activation='relu', padding='same')(c7)\n",
    "    outputs = layers.Conv2D(1, 1, activation='sigmoid')(c7)\n",
    "    model = models.Model(inputs=[inputs], outputs=[outputs])\n",
    "    return model\n",
    "# Instantiate and compile\n",
    "model = unet()\n",
    "model.compile(optimizer='adam', loss='binary_crossentropy', metrics=['accuracy', MeanIoU(num_classes=2)])\n",
    "model.summary()\n"
   ]
  },
  {
   "cell_type": "markdown",
   "id": "ed01a558",
   "metadata": {},
   "source": [
    "## 6- Training"
   ]
  },
  {
   "cell_type": "code",
   "execution_count": null,
   "id": "0225d694",
   "metadata": {},
   "outputs": [],
   "source": [
    "callbacks = [\n",
    "    tf.keras.callbacks.ModelCheckpoint('unet_tomato.h5', save_best_only=True),\n",
    "    tf.keras.callbacks.EarlyStopping(patience=10, restore_best_weights=True)\n",
    "]\n",
    "history = model.fit(train_generator, validation_data=(X_val, y_val), epochs=50, steps_per_epoch=len(X_train)//16, callbacks=callbacks)\n"
   ]
  },
  {
   "cell_type": "markdown",
   "id": "b029b498",
   "metadata": {},
   "source": [
    "## 7- Evaluation"
   ]
  },
  {
   "cell_type": "code",
   "execution_count": null,
   "id": "97b42bd3",
   "metadata": {},
   "outputs": [],
   "source": [
    "# Load best model\n",
    "model.load_weights('unet_tomato.h5')\n",
    "# Evaluate on test set\n",
    "results = model.evaluate(X_test, y_test)\n",
    "print(dict(zip(model.metrics_names, results)))\n"
   ]
  },
  {
   "cell_type": "markdown",
   "id": "2b1f8dee",
   "metadata": {},
   "source": [
    "## 8- Visualization"
   ]
  },
  {
   "cell_type": "code",
   "execution_count": null,
   "id": "3e0763d9",
   "metadata": {},
   "outputs": [],
   "source": [
    "# Predict and plot sample\n",
    "idx = 0  # change index for different samples\n",
    "pred = model.predict(X_test[idx:idx+1])[0,:,:,0] > 0.5\n",
    "plt.figure(figsize=(12,4))\n",
    "plt.subplot(1,3,1); plt.title('Image'); plt.imshow(X_test[idx])\n",
    "plt.subplot(1,3,2); plt.title('Ground Truth'); plt.imshow(y_test[idx,:,:,0], cmap='gray')\n",
    "plt.subplot(1,3,3); plt.title('Prediction'); plt.imshow(pred, cmap='gray')\n",
    "plt.show()\n"
   ]
  }
 ],
 "metadata": {
  "kernelspec": {
   "display_name": "Python 3",
   "language": "python",
   "name": "python3"
  },
  "language_info": {
   "name": "python",
   "version": "3.8"
  }
 },
 "nbformat": 4,
 "nbformat_minor": 5
}
