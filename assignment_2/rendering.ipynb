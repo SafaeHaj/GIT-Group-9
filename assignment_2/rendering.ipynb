{
 "cells": [
  {
   "cell_type": "markdown",
   "id": "d5fefb62",
   "metadata": {},
   "source": [
    "# Rendering\n",
    "\n",
    "## Table of Contents\n",
    "\n",
    "1. [Introduction](#1--introduction)\n",
    "2. [Basic Rendering Primitives](#2--basic-rendering-primitives)\n",
    "    - [Rendering a Point](#2.1--rendering-a-point)\n",
    "    - [Rendering a Line](#2.2--rendering-a-line)\n",
    "    - [Rendering a Triangle](#2.3--rendering-a-triangle)\n",
    "3. [Transformation Matrices](#3--transformation-matrices)\n",
    "    - [Translation Matrix](#3.1--translation-matrix)\n",
    "    - [Rotation Matrix](#3.2--rotation-matrix)\n",
    "    - [Scaling Matrix](#3.3--scaling-matrix)\n",
    "4. [Rasterization Algorithm](#4--rasterization-algorithm)\n",
    "5. [Shading Techniques](#5--shading-techniques)\n",
    "    - [Flat Shading](#5.1--flat-shading)\n",
    "    - [Gouraud Shading](#5.2--gouraud-shading)"
   ]
  },
  {
   "cell_type": "markdown",
   "id": "25a80cd1",
   "metadata": {},
   "source": [
    "## 1- Introduction\n",
    "\n",
    "So far, we have explored various methods to **process**, **segment**, and **classify** images. Now, it's time to take the next step and create our own images!\n",
    "\n",
    "In this notebook, we will dive into some fundamental rendering techniques and uncover the fascinating process behind how computers generate visuals.\n",
    "\n",
    "It's been a while since I last worked on something similar (back when I explored the OpenGL C++ library), so this feels like a refreshing revisit. - Safae\n",
    "\n",
    "---"
   ]
  },
  {
   "cell_type": "code",
   "execution_count": 2,
   "id": "0f287ef4",
   "metadata": {},
   "outputs": [
    {
     "name": "stdout",
     "output_type": "stream",
     "text": [
      "pygame 2.6.1 (SDL 2.28.4, Python 3.12.9)\n",
      "Hello from the pygame community. https://www.pygame.org/contribute.html\n"
     ]
    }
   ],
   "source": [
    "import numpy as np\n",
    "from OpenGL.GL import *\n",
    "from OpenGL.GLU import *\n",
    "import pygame\n",
    "from pygame.locals import *\n",
    "from PIL import Image\n",
    "from IPython.display import display, Image as IPyImage\n",
    "import io"
   ]
  },
  {
   "cell_type": "markdown",
   "id": "984d2fc2",
   "metadata": {},
   "source": [
    "### OpenGL Rendering Setup in Jupyter Notebooks\n",
    "\n",
    "Before we start rendering geometric primitives with OpenGL, it's important to understand the infrastructure we've set up to make OpenGL work within a Jupyter notebook environment.\n",
    "\n",
    "**1. `init_pygame(width=400, height=400)`**\n",
    "\n",
    "This function creates the foundation for our rendering pipeline by:\n",
    "- Initializing the Pygame library which provides a window for OpenGL rendering\n",
    "- Setting up an OpenGL rendering context with double buffering\n",
    "- Configuring the viewport with a white background\n",
    "- Setting up a perspective projection with a 45-degree field of view\n",
    "- Positioning our camera 5 units away from the origin along the z-axis\n",
    "\n",
    "**2. `render_to_image(width=400, height=400)`**\n",
    "\n",
    "This function acts as a bridge between OpenGL and Jupyter by:\n",
    "- Capturing the current state of the OpenGL framebuffer after rendering\n",
    "- Reading the raw RGBA pixel data from the GPU memory\n",
    "- Converting this data into a PIL Image object\n",
    "- Adjusting for OpenGL's coordinate system by flipping the image vertically\n",
    "- Returning an image that can be displayed in the notebook\n",
    "\n",
    "**3. `display_gl_scene(render_shape, width=400, height=400, **shape_args)`**\n",
    "\n",
    "This orchestrator function ties everything together by:\n",
    "- Setting up the rendering environment with `init_pygame`\n",
    "- Executing the provided rendering function (e.g., for points, lines, triangles)\n",
    "- Swapping buffers to make the rendered content visible\n",
    "- Converting the rendered scene to an image with `render_to_image`\n",
    "- Creating a byte stream to save the image in PNG format\n",
    "- Displaying the image in the Jupyter notebook\n",
    "- Cleaning up resources by closing the Pygame window\n",
    "\n",
    "These three functions create a complete pipeline that allows us to use OpenGL's powerful rendering capabilities within the Jupyter notebook environment, where we can visualize our graphics programming experiments directly alongside our code and explanations."
   ]
  },
  {
   "cell_type": "code",
   "execution_count": 3,
   "id": "047cff36",
   "metadata": {},
   "outputs": [],
   "source": [
    "# OpenGL is native to a C++ environment, so we need to adapt it for jupyter notebook usage\n",
    "def init_pygame(width=200, height=150):\n",
    "    \"\"\"Initialize a Pygame window for OpenGL rendering.\"\"\"\n",
    "    pygame.init()\n",
    "    pygame.display.set_mode((width, height), DOUBLEBUF | OPENGL)\n",
    "    glClearColor(1.0, 1.0, 1.0, 1.0)\n",
    "    glClear(GL_COLOR_BUFFER_BIT | GL_DEPTH_BUFFER_BIT)\n",
    "    gluPerspective(45, (width/height), 0.1, 50.0)\n",
    "    glTranslatef(0.0, 0.0, -5)\n",
    "\n",
    "# helper function to render any scene we obtain so it can be shown as an output\n",
    "def render_to_image(width=400, height=400):\n",
    "    \"\"\"Render the current OpenGL scene to a PIL Image.\"\"\"\n",
    "    # Read the pixels from the framebuffer\n",
    "    glReadBuffer(GL_FRONT)\n",
    "    pixels = glReadPixels(0, 0, width, height, GL_RGBA, GL_UNSIGNED_BYTE)\n",
    "    \n",
    "    # Convert to a PIL Image\n",
    "    image = Image.frombuffer(\"RGBA\", (width, height), pixels, \"raw\", \"RGBA\", 0, 1)\n",
    "    image = image.transpose(Image.FLIP_TOP_BOTTOM)  # OpenGL has inverted y-axis\n",
    "    \n",
    "    return image\n",
    "\n",
    "# main function for complete display\n",
    "def display_gl_scene(render_shape, width=400, height=400, **shape_args):\n",
    "    \"\"\"Initialize OpenGL, render something, and display it.\"\"\"\n",
    "    init_pygame(width, height)\n",
    "    render_shape(**shape_args)\n",
    "    pygame.display.flip()\n",
    "    image = render_to_image(width, height)\n",
    "    \n",
    "    with io.BytesIO() as output:\n",
    "        image.save(output, format=\"PNG\")\n",
    "        display(IPyImage(output.getvalue()))\n",
    "    \n",
    "    pygame.quit()"
   ]
  },
  {
   "cell_type": "markdown",
   "id": "d67dd410",
   "metadata": {},
   "source": [
    "## 2- Basic Rendering Primitives"
   ]
  },
  {
   "cell_type": "markdown",
   "id": "8b6df05b",
   "metadata": {},
   "source": [
    "### 2.1- Rendering a Point"
   ]
  },
  {
   "cell_type": "code",
   "execution_count": 4,
   "id": "2dc3a112",
   "metadata": {},
   "outputs": [
    {
     "data": {
      "image/png": "[encoded data removed]",
      "text/plain": [
       "<IPython.core.display.Image object>"
      ]
     },
     "metadata": {},
     "output_type": "display_data"
    }
   ],
   "source": [
    "def render_point(v, color, size, n_points=1):\n",
    "    for i in range(n_points):\n",
    "        glPointSize(size[i])\n",
    "        glBegin(GL_POINTS)\n",
    "        r, g, b = color[i]\n",
    "        glColor3f(r, g, b)\n",
    "        x, y, z = v[i]\n",
    "        glVertex3f(x, y, z)\n",
    "        glEnd()\n",
    "    \n",
    "v = [(1, 1, 0)]\n",
    "color = [(0, 0, 1)]\n",
    "size = [5]\n",
    "\n",
    "display_gl_scene(render_point, v=v, color=color, size=size)"
   ]
  },
  {
   "cell_type": "markdown",
   "id": "63df827c",
   "metadata": {},
   "source": [
    "### 2.1- Rendering a Line"
   ]
  },
  {
   "cell_type": "code",
   "execution_count": 5,
   "id": "1e09afd5",
   "metadata": {},
   "outputs": [
    {
     "data": {
      "image/png": "[encoded data removed]",
      "text/plain": [
       "<IPython.core.display.Image object>"
      ]
     },
     "metadata": {},
     "output_type": "display_data"
    }
   ],
   "source": [
    "def render_line(v1, v2, color, n_lines=1):\n",
    "    glBegin(GL_LINES)\n",
    "    for i in range(n_lines):\n",
    "        r, g, b = color[i]\n",
    "        glColor3f(r, g, b)\n",
    "        x1, y1, z1 = v1[i]\n",
    "        x2, y2, z2 = v2[i]\n",
    "        glVertex3f(x1, y1, z1)\n",
    "        glVertex3f(x2, y2, z2)\n",
    "    glEnd()\n",
    "    \n",
    "v1 = [(-3, -3, 0)]\n",
    "v2 = [(3, 3, 0)]\n",
    "color = [(1, 0, 0)]\n",
    "\n",
    "display_gl_scene(render_line, v1=v1, v2=v2, color=color)"
   ]
  },
  {
   "cell_type": "markdown",
   "id": "7ff0354b",
   "metadata": {},
   "source": [
    "### 2.1- Rendering a Triangle"
   ]
  },
  {
   "cell_type": "code",
   "execution_count": 6,
   "id": "059aa897",
   "metadata": {},
   "outputs": [
    {
     "data": {
      "image/png": "[encoded data removed]",
      "text/plain": [
       "<IPython.core.display.Image object>"
      ]
     },
     "metadata": {},
     "output_type": "display_data"
    }
   ],
   "source": [
    "def render_triangle(v1, v2, v3, color, n_triangles=1):\n",
    "    glBegin(GL_TRIANGLES)\n",
    "    for i in range(n_triangles):\n",
    "        r, g, b = color[i]\n",
    "        glColor3f(r, g, b)\n",
    "        x1, y1, z1 = v1[i]\n",
    "        x2, y2, z2 = v2[i]\n",
    "        x3, y3, z3 = v3[i]\n",
    "        glVertex3f(x1, y1, z1)\n",
    "        glVertex3f(x2, y2, z2)\n",
    "        glVertex3f(x3, y3, z3)\n",
    "    glEnd()\n",
    "    \n",
    "v1 = [(-1, -1, 0)]\n",
    "v2 = [(1, -1, 0)]\n",
    "v3 = [(0, 1, 0)]\n",
    "    \n",
    "color = [(0, 1, 0)]\n",
    "\n",
    "display_gl_scene(render_triangle, v1=v1, v2=v2, v3=v3, color=color)"
   ]
  },
  {
   "cell_type": "markdown",
   "id": "e8fd32a1",
   "metadata": {},
   "source": [
    "## 3- Transformation Matrices"
   ]
  },
  {
   "cell_type": "markdown",
   "id": "f0160edd",
   "metadata": {},
   "source": [
    "### 3.1- Translation Matrix"
   ]
  },
  {
   "cell_type": "code",
   "execution_count": 7,
   "id": "3497e09e",
   "metadata": {},
   "outputs": [],
   "source": [
    "def translate(v, dv):\n",
    "    return [v[i] + dv[i] for i in range(len(v))]"
   ]
  },
  {
   "cell_type": "markdown",
   "id": "3487f3bd",
   "metadata": {},
   "source": [
    "#### 3.1.1- Point Translation"
   ]
  },
  {
   "cell_type": "code",
   "execution_count": 8,
   "id": "fc28de55",
   "metadata": {},
   "outputs": [
    {
     "data": {
      "image/png": "[encoded data removed]",
      "text/plain": [
       "<IPython.core.display.Image object>"
      ]
     },
     "metadata": {},
     "output_type": "display_data"
    }
   ],
   "source": [
    "v = (0, 0, 0)\n",
    "dv = (0.5, 0, 0)\n",
    "\n",
    "translated_v = translate(v, dv)\n",
    "\n",
    "v_list = [v, translated_v]\n",
    "\n",
    "original_color = (0, 0 , 0)\n",
    "translated_color = (1, 0, 0)\n",
    "colors = [original_color, translated_color]\n",
    "sizes = [5, 5]\n",
    "\n",
    "display_gl_scene(render_point,v=v_list, color=colors, size=sizes, n_points=2)"
   ]
  },
  {
   "cell_type": "markdown",
   "id": "9e62a956",
   "metadata": {},
   "source": [
    "#### 3.1.2- Line Translation"
   ]
  },
  {
   "cell_type": "code",
   "execution_count": 9,
   "id": "1d949d3a",
   "metadata": {},
   "outputs": [
    {
     "data": {
      "image/png": "[encoded data removed]",
      "text/plain": [
       "<IPython.core.display.Image object>"
      ]
     },
     "metadata": {},
     "output_type": "display_data"
    }
   ],
   "source": [
    "v1 = [(-2, -1, 0)]\n",
    "v2 = [(2, 1, 0)]\n",
    "dv = (0.1, 0.5, 0)\n",
    "\n",
    "v1.append(translate(v1[0], dv))\n",
    "v2.append(translate(v2[0], dv))\n",
    "\n",
    "original_color = (0, 0, 0)\n",
    "translated_color = (1, 0, 0)\n",
    "colors = [original_color, translated_color]\n",
    "\n",
    "display_gl_scene(render_line, v1=v1, v2=v2, color=colors, n_lines=2)"
   ]
  },
  {
   "cell_type": "markdown",
   "id": "94595a02",
   "metadata": {},
   "source": [
    "#### 3.1.3- Triangle Translation"
   ]
  },
  {
   "cell_type": "code",
   "execution_count": 10,
   "id": "1cd98196",
   "metadata": {},
   "outputs": [
    {
     "data": {
      "image/png": "[encoded data removed]",
      "text/plain": [
       "<IPython.core.display.Image object>"
      ]
     },
     "metadata": {},
     "output_type": "display_data"
    }
   ],
   "source": [
    "v1 = [(-1, -1, 0)]\n",
    "v2 = [(1, -1, 0)]\n",
    "v3 = [(0, 1, 0)]\n",
    "\n",
    "dv = (0.1, 0.5, 0)\n",
    "\n",
    "v1.append(translate(v1[0], dv))\n",
    "v2.append(translate(v2[0], dv))\n",
    "v3.append(translate(v3[0], dv))\n",
    "\n",
    "original_color = (0, 0, 0)\n",
    "translated_color = (1, 0, 0)\n",
    "colors = [original_color, translated_color]\n",
    "\n",
    "display_gl_scene(render_triangle, v1=v1, v2=v2, v3=v3, color=colors, n_triangles=2)"
   ]
  },
  {
   "cell_type": "markdown",
   "id": "e7d58585",
   "metadata": {},
   "source": [
    "For all three primitives, **translation** fundamentally boils down to shifting their main components.\n",
    "\n",
    "By adding a translation vector to their respective coordinates, the transformation seamlessly integrates into the rendering process."
   ]
  },
  {
   "cell_type": "markdown",
   "id": "ef821443",
   "metadata": {},
   "source": [
    "### 3.2- Rotation Matrix"
   ]
  },
  {
   "cell_type": "code",
   "execution_count": 11,
   "id": "0f7f6be8",
   "metadata": {},
   "outputs": [],
   "source": [
    "def rotate(v, theta, axis='z'):\n",
    "    theta = np.radians(theta)  \n",
    "    if axis == 'z':\n",
    "        rotation_matrix = np.array([[np.cos(theta), -np.sin(theta), 0],\n",
    "                                     [np.sin(theta), np.cos(theta), 0],\n",
    "                                     [0, 0, 1]])\n",
    "    elif axis == 'y':\n",
    "        rotation_matrix = np.array([[np.cos(theta), 0, np.sin(theta)],\n",
    "                                     [0, 1, 0],\n",
    "                                     [-np.sin(theta), 0, np.cos(theta)]])\n",
    "    elif axis == 'x':\n",
    "        rotation_matrix = np.array([[1, 0, 0],\n",
    "                                     [0, np.cos(theta), -np.sin(theta)],\n",
    "                                     [0, np.sin(theta), np.cos(theta)]])\n",
    "    else:\n",
    "        raise ValueError(\"Axis must be 'x', 'y', or 'z'.\")\n",
    "\n",
    "    point = np.array(v)\n",
    "    rotated_point = np.dot(rotation_matrix, point)\n",
    "    return rotated_point.tolist()"
   ]
  },
  {
   "cell_type": "markdown",
   "id": "0777a0a7",
   "metadata": {},
   "source": [
    "#### 3.2.1- Point Rotation"
   ]
  },
  {
   "cell_type": "code",
   "execution_count": 12,
   "id": "659f14ef",
   "metadata": {},
   "outputs": [
    {
     "data": {
      "image/png": "[encoded data removed]",
      "text/plain": [
       "<IPython.core.display.Image object>"
      ]
     },
     "metadata": {},
     "output_type": "display_data"
    }
   ],
   "source": [
    "v = (1, 0, 0)\n",
    "theta = 45\n",
    "rotate_v = rotate(v, theta)\n",
    "\n",
    "v_list = [v, rotate_v]\n",
    "\n",
    "original_color = (0, 0 , 0)\n",
    "rotate_color = (0, 1, 0)\n",
    "colors = [original_color, rotate_color]\n",
    "sizes = [5, 5]\n",
    "\n",
    "display_gl_scene(render_point,v=v_list, color=colors, size=sizes, n_points=2)"
   ]
  },
  {
   "cell_type": "markdown",
   "id": "1dc6b23b",
   "metadata": {},
   "source": [
    "#### 3.2.2- Line Rotation"
   ]
  },
  {
   "cell_type": "code",
   "execution_count": 13,
   "id": "c21c0f0d",
   "metadata": {},
   "outputs": [
    {
     "data": {
      "image/png": "[encoded data removed]",
      "text/plain": [
       "<IPython.core.display.Image object>"
      ]
     },
     "metadata": {},
     "output_type": "display_data"
    }
   ],
   "source": [
    "v1 = [(-2, -1, 0)]\n",
    "v2 = [(2, 1, 0)]\n",
    "theta = 45\n",
    "\n",
    "v1.append(rotate(v1[0], theta))\n",
    "v2.append(rotate(v2[0], theta))\n",
    "\n",
    "original_color = (0, 0, 0)\n",
    "colors = [original_color, rotate_color]\n",
    "\n",
    "display_gl_scene(render_line, v1=v1, v2=v2, color=colors, n_lines=2)"
   ]
  },
  {
   "cell_type": "markdown",
   "id": "5be87180",
   "metadata": {},
   "source": [
    "#### 3.2.3- Triangle Rotation"
   ]
  },
  {
   "cell_type": "code",
   "execution_count": 14,
   "id": "148adc2f",
   "metadata": {},
   "outputs": [
    {
     "data": {
      "image/png": "[encoded data removed]",
      "text/plain": [
       "<IPython.core.display.Image object>"
      ]
     },
     "metadata": {},
     "output_type": "display_data"
    }
   ],
   "source": [
    "v1 = [(-1, -1, 0)]\n",
    "v2 = [(1, -1, 0)]\n",
    "v3 = [(0, 1, 0)]\n",
    "\n",
    "theta = 45\n",
    "\n",
    "v1.append(rotate(v1[0], theta))\n",
    "v2.append(rotate(v2[0], theta))\n",
    "v3.append(rotate(v3[0], theta))\n",
    "\n",
    "original_color = (0, 0, 0)\n",
    "colors = [original_color, rotate_color]\n",
    "\n",
    "display_gl_scene(render_triangle, v1=v1, v2=v2, v3=v3, color=colors, n_triangles=2)"
   ]
  },
  {
   "cell_type": "markdown",
   "id": "b9988dae",
   "metadata": {},
   "source": [
    "Once again, much like the **translation** operation, **rotation** is also just a matter of shifting the main components of the primitives."
   ]
  },
  {
   "cell_type": "markdown",
   "id": "0e991bcb",
   "metadata": {},
   "source": [
    "### 3.3- Scaling Matrix"
   ]
  },
  {
   "cell_type": "code",
   "execution_count": 15,
   "id": "4c511b74",
   "metadata": {},
   "outputs": [],
   "source": [
    "def scale(v, sv):\n",
    "    scaled = np.array(v)*sv\n",
    "    return scaled.tolist()"
   ]
  },
  {
   "cell_type": "markdown",
   "id": "8a2c7c5a",
   "metadata": {},
   "source": [
    "#### 3.3.1- Point Scale"
   ]
  },
  {
   "cell_type": "code",
   "execution_count": 16,
   "id": "24b95aba",
   "metadata": {},
   "outputs": [
    {
     "data": {
      "image/png": "[encoded data removed]",
      "text/plain": [
       "<IPython.core.display.Image object>"
      ]
     },
     "metadata": {},
     "output_type": "display_data"
    }
   ],
   "source": [
    "# Can't use point scale for this one, as it will simply send the point elsewhere\n",
    "v = (1, 0, 0)\n",
    "v_list = [v, v]\n",
    "\n",
    "original_color = (0, 0 , 0)\n",
    "scale_color = (0, 0, 1)\n",
    "colors = [original_color, scale_color]\n",
    "sizes = [20, 5] # we can just modify the size though\n",
    "\n",
    "display_gl_scene(render_point,v=v_list, color=colors, size=sizes, n_points=2)"
   ]
  },
  {
   "cell_type": "markdown",
   "id": "7715e8e8",
   "metadata": {},
   "source": [
    "#### 3.3.2- Line Scale"
   ]
  },
  {
   "cell_type": "code",
   "execution_count": 17,
   "id": "336d142c",
   "metadata": {},
   "outputs": [
    {
     "data": {
      "image/png": "[encoded data removed]",
      "text/plain": [
       "<IPython.core.display.Image object>"
      ]
     },
     "metadata": {},
     "output_type": "display_data"
    }
   ],
   "source": [
    "v1 = [(-2, -1, 0)]\n",
    "v2 = [(2, 1, 0)]\n",
    "s = 0.5\n",
    "\n",
    "v1.append(scale(v1[0], s))\n",
    "v2.append(scale(v2[0], s))\n",
    "\n",
    "original_color = (0, 0, 0)\n",
    "colors = [original_color, scale_color]\n",
    "\n",
    "display_gl_scene(render_line, v1=v1, v2=v2, color=colors, n_lines=2)"
   ]
  },
  {
   "cell_type": "markdown",
   "id": "82ffb061",
   "metadata": {},
   "source": [
    "#### 3.3.3- Triangle Scale"
   ]
  },
  {
   "cell_type": "code",
   "execution_count": 18,
   "id": "e9d1f66f",
   "metadata": {},
   "outputs": [
    {
     "data": {
      "image/png": "[encoded data removed]",
      "text/plain": [
       "<IPython.core.display.Image object>"
      ]
     },
     "metadata": {},
     "output_type": "display_data"
    }
   ],
   "source": [
    "v1 = [(-1, -1, 0)]\n",
    "v2 = [(1, -1, 0)]\n",
    "v3 = [(0, 1, 0)]\n",
    "\n",
    "s = 0.5\n",
    "\n",
    "v1.append(scale(v1[0], s))\n",
    "v2.append(scale(v2[0], s))\n",
    "v3.append(scale(v3[0], s))\n",
    "\n",
    "original_color = (0, 0, 0)\n",
    "colors = [original_color, scale_color]\n",
    "\n",
    "display_gl_scene(render_triangle, v1=v1, v2=v2, v3=v3, color=colors, n_triangles=2)"
   ]
  },
  {
   "cell_type": "markdown",
   "id": "6c60e614",
   "metadata": {},
   "source": [
    "Scaling behaves differently compared to translation and rotation. For primitives with more than one dimension, scaling adjusts their size proportionally. \n",
    "\n",
    "However, for 1D points, scaling simply alters their position, as the operation directly modifies their coordinates without changing their dimensionality."
   ]
  },
  {
   "cell_type": "markdown",
   "id": "dcf86369",
   "metadata": {},
   "source": [
    "## 4- Rasterization Algorithm\n",
    "\n",
    "Rasterization is the process of converting vector-based geometric primitives (like triangles) into pixel-based representations that can be displayed on a screen. As defined by Sung-Eui Yoon and Kaist in their book *Rendering*:\n",
    "\n",
    "> \"Rasterization is one of the most popular rendering techniques developed for computer graphics. It simply projects triangles in a scene into a viewing space and colors pixels overlapped with those triangles. This approach is very simple and thus can be implemented efficiently in specialized hardware.\"\n",
    "\n",
    "### Our Triangle Rasterization Implementation\n",
    "\n",
    "In this section, we'll implement a basic software rasterization algorithm that uses **barycentric coordinates** to determine which pixels lie inside a triangle. The algorithm works as follows:\n",
    "\n",
    "1. **Coordinate Transformation**: Convert 3D triangle vertices to 2D screen space\n",
    "2. **Bounding Box Creation**: Determine the minimum rectangle containing the triangle\n",
    "3. **Barycentric Coordinate Check**: For each pixel in the bounding box:\n",
    "   - Calculate barycentric coordinates (w1, w2, w3)\n",
    "   - If all coordinates are positive (≥0), the pixel is inside the triangle\n",
    "   - Color the pixel accordingly\n",
    "\n",
    "This approach efficiently implements the core concept of rasterization while handling edge cases properly. Modern hardware implementations add many optimizations including:\n",
    "\n",
    "- Parallel processing of multiple pixels\n",
    "- Shared edge handling to avoid gaps or overlaps between adjacent triangles\n",
    "- Implementation of the \"top-left rule\" for consistent rendering of shared edges\n",
    "- Anti-aliasing techniques to reduce jagged edges\n",
    "\n",
    "The \"top-left rule\" is particularly important for consistent rendering and states that a pixel is rasterized if and only if:\n",
    "- Its center lies completely inside the triangle, or\n",
    "- Its center lies exactly on a top edge or left edge of the triangle\n",
    "\n",
    "By following these rules and using barycentric coordinates, our implementation will produce a reasonably accurate software rendering of triangles."
   ]
  },
  {
   "cell_type": "code",
   "execution_count": 24,
   "id": "dc19de4b",
   "metadata": {},
   "outputs": [],
   "source": [
    "import matplotlib.pyplot as plt\n",
    "\n",
    "def to_screen_space(x, y, width, height):\n",
    "    \"\"\"Convert normalized coordinates to screen space.\"\"\"\n",
    "    return int((x + 1) * width / 2), int((y + 1) * height / 2)\n",
    "\n",
    "def compute_bounding_box(v1, v2, v3, width, height):\n",
    "    \"\"\"Compute the bounding box of a triangle.\"\"\"\n",
    "    x1, y1 = to_screen_space(v1[0], v1[1], width, height)\n",
    "    x2, y2 = to_screen_space(v2[0], v2[1], width, height)\n",
    "    x3, y3 = to_screen_space(v3[0], v3[1], width, height)\n",
    "    xmin = max(0, min(x1, x2, x3))\n",
    "    xmax = min(width - 1, max(x1, x2, x3))\n",
    "    ymin = max(0, min(y1, y2, y3))\n",
    "    ymax = min(height - 1, max(y1, y2, y3))\n",
    "    return (x1, y1), (x2, y2), (x3, y3), xmin, xmax, ymin, ymax\n",
    "\n",
    "def barycentric_coordinates(v, v1, v2, v3):\n",
    "    \"\"\"Calculate barycentric coordinates for a point.\n",
    "\n",
    "    Parameters:\n",
    "    v: tuple\n",
    "        The point for which barycentric coordinates are calculated (x, y).\n",
    "    v1, v2, v3: tuple\n",
    "        The vertices of the triangle in screen space (x, y).\n",
    "\n",
    "    Returns:\n",
    "    tuple\n",
    "        The barycentric coordinates (w1, w2, w3) of the point v.\n",
    "    \"\"\"\n",
    "    def edge(v, v1, v2):\n",
    "        x, y = v\n",
    "        x1, y1 = v1\n",
    "        x2, y2 = v2\n",
    "        return (x - x1) * (y2 - y1) - (y - y1) * (x2 - x1)\n",
    "    area = edge(v3, v1, v2)\n",
    "    w1 = edge(v, v2, v3) / area\n",
    "    w2 = edge(v, v3, v1) / area\n",
    "    w3 = edge(v, v1, v2) / area\n",
    "    return w1, w2, w3\n",
    "\n",
    "def rasterize_triangle(v1, v2, v3, color, width=200, height=200):\n",
    "    \"\"\"Rasterize a triangle.\"\"\"\n",
    "    img = np.ones((height, width, 3), dtype=np.float32)\n",
    "    r, g, b = color\n",
    "\n",
    "    # Step 1: Coordinate transformation and bounding box creation\n",
    "    v1, v2, v3, xmin, xmax, ymin, ymax = compute_bounding_box(v1, v2, v3, width, height)\n",
    "\n",
    "    # Step 2: Scan through each pixel in the bounding box\n",
    "    for y in range(ymin, ymax + 1):\n",
    "        for x in range(xmin, xmax + 1):\n",
    "            # Step 3: Barycentric coordinate check\n",
    "            w1, w2, w3 = barycentric_coordinates((x, y), v1, v2, v3)\n",
    "            if w1 >= 0 and w2 >= 0 and w3 >= 0:\n",
    "                img[height - 1 - y, x] = [r, g, b]  # Flip y for image convention\n",
    "\n",
    "    return img"
   ]
  },
  {
   "cell_type": "code",
   "execution_count": 26,
   "id": "c87f5a6c",
   "metadata": {},
   "outputs": [
    {
     "data": {
      "image/png": "[encoded data removed]",
      "text/plain": [
       "<Figure size 500x500 with 1 Axes>"
      ]
     },
     "metadata": {},
     "output_type": "display_data"
    }
   ],
   "source": [
    "def display_rasterized_triangle(v1, v2, v3, color, width=200, height=200):\n",
    "    \"\"\"Display a triangle rasterized using our software algorithm.\"\"\"\n",
    "    img = rasterize_triangle(v1, v2, v3, color, width, height)\n",
    "    plt.figure(figsize=(5, 5))\n",
    "    plt.imshow(img)\n",
    "    plt.title(\"Software Triangle Rasterization\")\n",
    "    plt.axis('off')\n",
    "    plt.show()\n",
    "\n",
    "# mimicking how we would usually call the triangle in the PyOpenGL definition\n",
    "v1 = (-0.5, -0.5, 0)\n",
    "v2 = (0.5, -0.5, 0)\n",
    "v3 = (0, 0.5, 0)\n",
    "triangle_color = (0, 1, 0)\n",
    "\n",
    "display_rasterized_triangle(v1, v2, v3, triangle_color)"
   ]
  },
  {
   "cell_type": "markdown",
   "id": "8fe5315b",
   "metadata": {},
   "source": [
    "We notice that the pixelization phenomenon in the triangle here is very clear, which is to be expected as we are rendering it pixel by pixel according to the `barycentric_coordinates` function, within the area computed by the `bounding_box` function. "
   ]
  },
  {
   "cell_type": "markdown",
   "id": "28a1523a",
   "metadata": {},
   "source": [
    "## 5- Shading Techniques"
   ]
  },
  {
   "cell_type": "markdown",
   "id": "db29e809",
   "metadata": {},
   "source": [
    "### 5.1- Flat Shading"
   ]
  },
  {
   "cell_type": "markdown",
   "id": "19b2d972",
   "metadata": {},
   "source": [
    "The flat shading algorithm works as follows:\n",
    "\n",
    "1. **Compute Surface Normal**:\n",
    "    - Use the cross product of two edges of the triangle to calculate the normal vector.\n",
    "    - Normalize the normal vector to ensure it has a unit length.\n",
    "\n",
    "2. **Lighting Calculation**:\n",
    "    - Define the light direction, light color, and ambient light intensity.\n",
    "    - Compute the diffuse component using the dot product of the normal vector and the light direction (Lambert's cosine law).\n",
    "    - Combine the ambient and diffuse components to calculate the final lighting intensity.\n",
    "\n",
    "3. **Apply Color**:\n",
    "    - Multiply the base color of the triangle by the computed lighting intensity to determine the shaded color.\n",
    "\n",
    "4. **Rasterize the Triangle**:\n",
    "    - Convert the 3D triangle vertices to 2D screen space.\n",
    "    - Compute the bounding box of the triangle in screen space.\n",
    "    - For each pixel in the bounding box:\n",
    "      - Calculate the barycentric coordinates to check if the pixel lies inside the triangle.\n",
    "      - If the pixel is inside, assign the shaded color to the pixel.\n",
    "\n",
    "5. **Display the Result**:\n",
    "    - Render the rasterized triangle with the computed flat shading."
   ]
  },
  {
   "cell_type": "code",
   "execution_count": 40,
   "id": "1c984535",
   "metadata": {},
   "outputs": [
    {
     "name": "stderr",
     "output_type": "stream",
     "text": [
      "Clipping input data to the valid range for imshow with RGB data ([0..1] for floats or [0..255] for integers). Got range [0.0..1.0944272].\n"
     ]
    },
    {
     "data": {
      "image/png": "[encoded data removed]",
      "text/plain": [
       "<Figure size 1200x400 with 3 Axes>"
      ]
     },
     "metadata": {},
     "output_type": "display_data"
    }
   ],
   "source": [
    "v1 = np.array([-0.5, -0.5, 0.0])\n",
    "v2 = np.array([ 0.5, -0.5, 0.0])\n",
    "v3 = np.array([ 0.0,  0.5, 0.5])\n",
    "base_color = np.array([0.0, 0.0, 1.0])\n",
    "light_dirs = [(0,0,1), (1,1,1), (-1,0,0.5)]\n",
    "\n",
    "def flat_shade(v1, v2, v3, base_color, light_dir, ambient=0.2, w=200, h=200):\n",
    "    n = np.cross(v2 - v1, v3 - v1)\n",
    "    n = n / np.linalg.norm(n)\n",
    "    l = np.array(light_dir, dtype=float)\n",
    "    l = l / np.linalg.norm(l)\n",
    "    intensity = ambient + max(0.0, n.dot(l))\n",
    "    color = tuple((base_color * intensity).tolist())\n",
    "    return rasterize_triangle(v1, v2, v3, color, w, h)\n",
    "\n",
    "fig, axes = plt.subplots(1, 3, figsize=(12, 4))\n",
    "for ax, ld in zip(axes, light_dirs):\n",
    "    img = flat_shade(v1, v2, v3, base_color, np.array(ld))\n",
    "    ax.imshow(img)\n",
    "    ax.axis('off')\n",
    "    ax.set_title(f\"Light Direction: {ld}\")\n",
    "plt.tight_layout()\n",
    "plt.show()"
   ]
  },
  {
   "cell_type": "markdown",
   "id": "ce8c8c30",
   "metadata": {},
   "source": [
    "### 5.1- Gouraud Shading"
   ]
  },
  {
   "cell_type": "markdown",
   "id": "4861a215",
   "metadata": {},
   "source": [
    "The Gouraud shading algorithm works as follows:\n",
    "\n",
    "1. **Compute Surface Normal**:\n",
    "    - Use the cross product of two edges of the triangle to calculate the normal vector.\n",
    "    - Normalize the normal vector to ensure it has a unit length.\n",
    "    - In a mesh, this would be done for each triangle face first.\n",
    "\n",
    "2. **Build Vertex Normals**:\n",
    "    - For each vertex in a mesh, compute its normal by averaging the normals of adjacent faces.\n",
    "    - For our single triangle example, we'll use the same face normal for all vertices.\n",
    "    - Normalize the resulting vertex normal vectors.\n",
    "\n",
    "3. **Per-Vertex Lighting**:\n",
    "    - For each vertex, compute lighting using the vertex normal and light direction.\n",
    "    - Apply the ambient term plus the diffuse term (dot product of normal and light direction).\n",
    "    - Calculate the shaded vertex color by multiplying the base color by the lighting intensity.\n",
    "\n",
    "4. **Interpolate Colors**:\n",
    "    - Project the triangle into screen space.\n",
    "    - For each pixel inside the triangle:\n",
    "      - Calculate barycentric coordinates relative to the three vertices.\n",
    "      - Use these coordinates to linearly interpolate the vertex colors.\n",
    "      - Assign the resulting interpolated color to the pixel.\n",
    "\n",
    "5. **Display the Result**:\n",
    "    - Render the triangle with the smoothly interpolated vertex colors."
   ]
  },
  {
   "cell_type": "code",
   "execution_count": 38,
   "id": "bfa02607",
   "metadata": {},
   "outputs": [
    {
     "name": "stderr",
     "output_type": "stream",
     "text": [
      "Clipping input data to the valid range for imshow with RGB data ([0..1] for floats or [0..255] for integers). Got range [0.0..1.12720003158242].\n"
     ]
    },
    {
     "data": {
      "image/png": "[encoded data removed]",
      "text/plain": [
       "<Figure size 1200x400 with 3 Axes>"
      ]
     },
     "metadata": {},
     "output_type": "display_data"
    }
   ],
   "source": [
    "def gouraud_shader(v1, v2, v3, base_color, ld, ambient=0.2, w=200, h=200):\n",
    "    v = np.stack([v1, v2, v3])\n",
    "    fn = np.cross(v2-v1, v3-v1)\n",
    "    fn /= np.linalg.norm(fn)\n",
    "    perturbs = np.array([[.1,0,.1],[-.1,.1,0],[0,0,0]])\n",
    "    ns = (fn + perturbs)\n",
    "    ns /= np.linalg.norm(ns, axis=1)[:,None]\n",
    "    Is = ambient + np.maximum(0, ns.dot(ld/np.linalg.norm(ld)))\n",
    "    xs = ((v[:,0]+1)*(w-1)/2).astype(int)\n",
    "    ys = ((1-v[:,1])*(h-1)/2).astype(int)\n",
    "    x0,x1,x2 = xs; y0,y1,y2 = ys\n",
    "    den = (y1-y2)*(x0-x2)+(x2-x1)*(y0-y2)\n",
    "    img = np.ones((h, w, 3))\n",
    "    for y in range(h):\n",
    "        for x in range(w):\n",
    "            w1 = ((y1-y2)*(x-x2)+(x2-x1)*(y-y2))/den\n",
    "            w2 = ((y2-y0)*(x-x2)+(x0-x2)*(y-y2))/den\n",
    "            w3 = 1-w1-w2\n",
    "            if w1>=0 and w2>=0 and w3>=0:\n",
    "                img[y,x] = base_color * (w1*Is[0] + w2*Is[1] + w3*Is[2])\n",
    "    return img\n",
    "\n",
    "light_dirs = [(0, 0, 1), (1, 1, 1), (-1, 0, 0.5)]\n",
    "fig, axes = plt.subplots(1, 3, figsize=(12, 4))\n",
    "for ax, ld in zip(axes, light_dirs):\n",
    "    img = gouraud_shader(v1, v2, v3, base_color, np.array(ld))\n",
    "    ax.imshow(img)\n",
    "    ax.axis('off')\n",
    "    ax.set_title(f\"Light Direction: {ld}\")\n",
    "plt.tight_layout()\n",
    "plt.show()\n"
   ]
  },
  {
   "cell_type": "markdown",
   "id": "d530512d",
   "metadata": {},
   "source": [
    "The difference between these two basic shading algorithms is quite subtle: for `flat_shade`, it is a computationally inexpensive way to shade the triangle with just one light. Whereas `gouraud_shade` has a better and smoother color transition across the triangle's surface, producing a nice natural gradient, though this causes it to be more intensive in its computations. The usage of either then would really depend on where we want to apply them."
   ]
  }
 ],
 "metadata": {
  "kernelspec": {
   "display_name": "Python 3",
   "language": "python",
   "name": "python3"
  },
  "language_info": {
   "codemirror_mode": {
    "name": "ipython",
    "version": 3
   },
   "file_extension": ".py",
   "mimetype": "text/x-python",
   "name": "python",
   "nbconvert_exporter": "python",
   "pygments_lexer": "ipython3",
   "version": "3.12.9"
  }
 },
 "nbformat": 4,
 "nbformat_minor": 5
}
